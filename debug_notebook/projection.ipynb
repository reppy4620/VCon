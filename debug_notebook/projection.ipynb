{
 "cells": [
  {
   "cell_type": "code",
   "execution_count": 2,
   "metadata": {},
   "outputs": [],
   "source": [
    "from resemblyzer import preprocess_wav, VoiceEncoder\n",
    "from itertools import groupby\n",
    "from pathlib import Path\n",
    "from tqdm import tqdm\n",
    "import numpy as np\n",
    "import matplotlib\n",
    "import matplotlib.pyplot as plt"
   ]
  },
  {
   "cell_type": "code",
   "execution_count": 3,
   "metadata": {},
   "outputs": [],
   "source": [
    "from umap import UMAP"
   ]
  },
  {
   "cell_type": "code",
   "execution_count": 4,
   "metadata": {},
   "outputs": [],
   "source": [
    "colors = matplotlib.colors.cnames.values()"
   ]
  },
  {
   "cell_type": "code",
   "execution_count": 5,
   "metadata": {},
   "outputs": [],
   "source": [
    "def plot_projections(embeds, speakers, ax=None, colors=None, markers=None, legend=True, \n",
    "                     title=\"\", **kwargs):\n",
    "    if ax is None:\n",
    "        _, ax = plt.subplots(figsize=(12, 12))\n",
    "        \n",
    "    # Compute the 2D projections. You could also project to another number of dimensions (e.g. \n",
    "    # for a 3D plot) or use a different different dimensionality reduction like PCA or TSNE.\n",
    "    reducer = UMAP(**kwargs)\n",
    "    projs = reducer.fit_transform(embeds)\n",
    "    \n",
    "    # Draw the projections\n",
    "    speakers = np.array(speakers)\n",
    "    colors = list(matplotlib.colors.cnames.values())\n",
    "    for i, speaker in enumerate(np.unique(speakers)):\n",
    "        speaker_projs = projs[speakers == speaker]\n",
    "        marker = \"o\" if markers is None else markers[i]\n",
    "        label = speaker if legend else None\n",
    "        ax.scatter(*speaker_projs.T, c=colors[i], marker=marker, label=label)\n",
    "\n",
    "    if legend:\n",
    "        ax.legend(title=\"Speakers\", ncol=2, bbox_to_anchor=(-0.1, 1))\n",
    "    ax.set_title('jvs-parallel')\n",
    "    ax.set_xticks([])\n",
    "    ax.set_yticks([])\n",
    "    ax.set_aspect(\"equal\")\n",
    "    \n",
    "    plt.savefig('jvs.png')\n",
    "    \n",
    "    return projs"
   ]
  },
  {
   "cell_type": "code",
   "execution_count": 6,
   "metadata": {},
   "outputs": [],
   "source": [
    "wav_fpaths = list(Path(\"D:/dataset/seiyu\").glob(\"**/*.wav\"))\n",
    "#wav_fpaths = list(Path(\"D:/dataset/jvs_ver1\").glob(\"**/parallel100/wav24kHz16bit/*.wav\"))"
   ]
  },
  {
   "cell_type": "code",
   "execution_count": 7,
   "metadata": {},
   "outputs": [],
   "source": [
    "speakers = list(map(lambda wav_fpath: wav_fpath.parent.stem.split('_')[0], wav_fpaths))\n",
    "#speakers = list(map(lambda wav_fpath: wav_fpath.parent.parent.parent.stem.split('_')[0], wav_fpaths))"
   ]
  },
  {
   "cell_type": "code",
   "execution_count": 8,
   "metadata": {},
   "outputs": [
    {
     "name": "stderr",
     "output_type": "stream",
     "text": [
      "Preprocessing wavs: 100%|██████████| 300/300 [01:29<00:00,  2.82it/s]\n"
     ]
    }
   ],
   "source": [
    "wavs = np.array(list(map(preprocess_wav, tqdm(wav_fpaths, \"Preprocessing wavs\", len(wav_fpaths)))))"
   ]
  },
  {
   "cell_type": "code",
   "execution_count": 9,
   "outputs": [
    {
     "data": {
      "text/plain": "(108480,)"
     },
     "execution_count": 9,
     "metadata": {},
     "output_type": "execute_result"
    }
   ],
   "source": [
    "wavs[0].shape"
   ],
   "metadata": {
    "collapsed": false,
    "pycharm": {
     "name": "#%%\n"
    }
   }
  },
  {
   "cell_type": "code",
   "execution_count": 10,
   "metadata": {},
   "outputs": [],
   "source": [
    "speaker_wavs = {speaker: wavs[list(indices)] for speaker, indices in \n",
    "                groupby(range(len(wavs)), lambda i: speakers[i])}"
   ]
  },
  {
   "cell_type": "code",
   "execution_count": 11,
   "metadata": {},
   "outputs": [
    {
     "name": "stdout",
     "output_type": "stream",
     "text": [
      "Loaded the voice encoder model on cuda in 1.88 seconds.\n"
     ]
    }
   ],
   "source": [
    "## Compute the embeddings\n",
    "encoder = VoiceEncoder()\n",
    "utterance_embeds = np.array(list(map(encoder.embed_utterance, wavs)))"
   ]
  },
  {
   "cell_type": "code",
   "execution_count": 12,
   "metadata": {},
   "outputs": [
    {
     "data": {
      "text/plain": "1.0"
     },
     "execution_count": 12,
     "metadata": {},
     "output_type": "execute_result"
    }
   ],
   "source": [
    "np.linalg.norm(utterance_embeds[0], ord=2)"
   ]
  },
  {
   "cell_type": "code",
   "execution_count": 13,
   "metadata": {},
   "outputs": [
    {
     "data": {
      "text/plain": "(300, 256)"
     },
     "execution_count": 13,
     "metadata": {},
     "output_type": "execute_result"
    }
   ],
   "source": [
    "utterance_embeds.shape"
   ]
  },
  {
   "cell_type": "code",
   "execution_count": 14,
   "metadata": {},
   "outputs": [
    {
     "data": {
      "text/plain": "<Figure size 864x864 with 1 Axes>",
      "image/png": "[encoded data removed]"
     },
     "metadata": {},
     "output_type": "display_data"
    }
   ],
   "source": [
    "# Project the embeddings in 2D space\n",
    "plot_projections(utterance_embeds, speakers, title=\"Embedding projections\")\n",
    "plt.show()"
   ]
  }
 ],
 "metadata": {
  "kernelspec": {
   "name": "pycharm-aa3d631e",
   "language": "python",
   "display_name": "PyCharm (VCon)"
  },
  "language_info": {
   "codemirror_mode": {
    "name": "ipython",
    "version": 3
   },
   "file_extension": ".py",
   "mimetype": "text/x-python",
   "name": "python",
   "nbconvert_exporter": "python",
   "pygments_lexer": "ipython3",
   "version": "3.7.7"
  }
 },
 "nbformat": 4,
 "nbformat_minor": 4
}